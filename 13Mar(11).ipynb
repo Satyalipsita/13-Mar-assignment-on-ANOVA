{
 "cells": [
  {
   "cell_type": "code",
   "execution_count": 1,
   "id": "88ed8855-28d6-48aa-9b4e-b48383838c2c",
   "metadata": {},
   "outputs": [
    {
     "name": "stdout",
     "output_type": "stream",
     "text": [
      "Two-sample t-test results:\n",
      "t-statistic: -4.508893097370603\n",
      "p-value: 1.8080222016909692e-05\n",
      "Post hoc (Tukey's HSD) results:\n",
      "   Multiple Comparison of Means - Tukey HSD, FWER=0.05   \n",
      "=========================================================\n",
      "group1    group2   meandiff p-adj  lower    upper  reject\n",
      "---------------------------------------------------------\n",
      "   New Traditional -10.2768   0.0 -14.7998 -5.7537   True\n",
      "---------------------------------------------------------\n"
     ]
    }
   ],
   "source": [
    "import numpy as np\n",
    "import pandas as pd\n",
    "import scipy.stats as stats\n",
    "from statsmodels.stats.multicomp import pairwise_tukeyhsd\n",
    "\n",
    "# create sample data\n",
    "np.random.seed(123)\n",
    "trad = np.random.normal(70, 10, 50)\n",
    "new = np.random.normal(80, 10, 50)\n",
    "\n",
    "# conduct two-sample t-test\n",
    "t_stat, p_val = stats.ttest_ind(trad, new)\n",
    "print(\"Two-sample t-test results:\")\n",
    "print(\"t-statistic:\", t_stat)\n",
    "print(\"p-value:\", p_val)\n",
    "\n",
    "# conduct post hoc test\n",
    "df = pd.DataFrame({'score': np.concatenate([trad, new]),\n",
    "                   'group': np.repeat(['Traditional', 'New'], [50, 50])})\n",
    "tukey_results = pairwise_tukeyhsd(df['score'], df['group'])\n",
    "print(\"Post hoc (Tukey's HSD) results:\")\n",
    "print(tukey_results)\n"
   ]
  },
  {
   "cell_type": "code",
   "execution_count": null,
   "id": "1161d7b7-33f9-428f-a643-47261f08f07e",
   "metadata": {},
   "outputs": [],
   "source": []
  }
 ],
 "metadata": {
  "kernelspec": {
   "display_name": "Python 3 (ipykernel)",
   "language": "python",
   "name": "python3"
  },
  "language_info": {
   "codemirror_mode": {
    "name": "ipython",
    "version": 3
   },
   "file_extension": ".py",
   "mimetype": "text/x-python",
   "name": "python",
   "nbconvert_exporter": "python",
   "pygments_lexer": "ipython3",
   "version": "3.10.8"
  }
 },
 "nbformat": 4,
 "nbformat_minor": 5
}
