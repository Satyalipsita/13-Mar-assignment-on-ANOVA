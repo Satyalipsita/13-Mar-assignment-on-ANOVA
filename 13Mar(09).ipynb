{
 "cells": [
  {
   "cell_type": "code",
   "execution_count": 1,
   "id": "5e4cf873-c490-4d5c-9a77-4b86b2d51a39",
   "metadata": {},
   "outputs": [
    {
     "name": "stdout",
     "output_type": "stream",
     "text": [
      "One-way ANOVA results:\n",
      "F statistic: 21.326648038420554\n",
      "p-value: 7.374542408029723e-09\n",
      "There is a significant difference in weight loss between the three diets.\n"
     ]
    }
   ],
   "source": [
    "import numpy as np\n",
    "import scipy.stats as stats\n",
    "\n",
    "# create sample data\n",
    "np.random.seed(123)\n",
    "diet_a = np.random.normal(5, 2, 50)\n",
    "diet_b = np.random.normal(6, 2, 50)\n",
    "diet_c = np.random.normal(3, 2, 50)\n",
    "\n",
    "# perform one-way ANOVA\n",
    "f_stat, p_value = stats.f_oneway(diet_a, diet_b, diet_c)\n",
    "\n",
    "# report results\n",
    "print(\"One-way ANOVA results:\")\n",
    "print(\"F statistic:\", f_stat)\n",
    "print(\"p-value:\", p_value)\n",
    "if p_value < 0.05:\n",
    "    print(\"There is a significant difference in weight loss between the three diets.\")\n",
    "else:\n",
    "    print(\"There is no significant difference in weight loss between the three diets.\")\n"
   ]
  },
  {
   "cell_type": "code",
   "execution_count": null,
   "id": "08d28580-c3ac-442c-aaac-4073ab0dbc96",
   "metadata": {},
   "outputs": [],
   "source": []
  }
 ],
 "metadata": {
  "kernelspec": {
   "display_name": "Python 3 (ipykernel)",
   "language": "python",
   "name": "python3"
  },
  "language_info": {
   "codemirror_mode": {
    "name": "ipython",
    "version": 3
   },
   "file_extension": ".py",
   "mimetype": "text/x-python",
   "name": "python",
   "nbconvert_exporter": "python",
   "pygments_lexer": "ipython3",
   "version": "3.10.8"
  }
 },
 "nbformat": 4,
 "nbformat_minor": 5
}
