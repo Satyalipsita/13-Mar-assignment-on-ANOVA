{
 "cells": [
  {
   "cell_type": "code",
   "execution_count": 1,
   "id": "329d44ef-8aa1-4d9d-b9c0-d1f79052f170",
   "metadata": {},
   "outputs": [
    {
     "name": "stdout",
     "output_type": "stream",
     "text": [
      "SST: 153.33333333333334\n",
      "SSE: 60.0\n",
      "SSR: 93.33333333333334\n",
      "F-statistic: 9.333333333333334\n",
      "p-value: 0.0035899470296692697\n"
     ]
    }
   ],
   "source": [
    "import numpy as np\n",
    "from scipy import stats\n",
    "\n",
    "# define the data\n",
    "group1 = [10, 12, 14, 16, 18]\n",
    "group2 = [8, 9, 10, 11, 12]\n",
    "group3 = [6, 7, 8, 9, 10]\n",
    "\n",
    "# combine the data into a single array\n",
    "data = np.concatenate([group1, group2, group3])\n",
    "\n",
    "# calculate the grand mean\n",
    "grand_mean = np.mean(data)\n",
    "\n",
    "# calculate the sum of squares total (SST)\n",
    "sst = np.sum((data - grand_mean) ** 2)\n",
    "\n",
    "# calculate the sum of squares error (SSE)\n",
    "sse = np.sum((group1 - np.mean(group1)) ** 2) + np.sum((group2 - np.mean(group2)) ** 2) + np.sum((group3 - np.mean(group3)) ** 2)\n",
    "\n",
    "# calculate the sum of squares regression (SSR)\n",
    "ssr = sst - sse\n",
    "\n",
    "# calculate the degrees of freedom\n",
    "df_between = 2  # there are three groups, so df_between = number of groups - 1\n",
    "df_within = 12  # there are 15 observations total, so df_within = total observations - number of groups\n",
    "\n",
    "# calculate the mean squares\n",
    "ms_between = ssr / df_between\n",
    "ms_within = sse / df_within\n",
    "\n",
    "# calculate the F-statistic\n",
    "f_statistic = ms_between / ms_within\n",
    "\n",
    "# calculate the p-value\n",
    "p_value = stats.f.sf(f_statistic, df_between, df_within)\n",
    "\n",
    "# print the results\n",
    "print(\"SST:\", sst)\n",
    "print(\"SSE:\", sse)\n",
    "print(\"SSR:\", ssr)\n",
    "print(\"F-statistic:\", f_statistic)\n",
    "print(\"p-value:\", p_value)\n"
   ]
  },
  {
   "cell_type": "code",
   "execution_count": null,
   "id": "f02a5b0f-0c0d-4fb1-bc8d-f6ffc63a5ab4",
   "metadata": {},
   "outputs": [],
   "source": []
  }
 ],
 "metadata": {
  "kernelspec": {
   "display_name": "Python 3 (ipykernel)",
   "language": "python",
   "name": "python3"
  },
  "language_info": {
   "codemirror_mode": {
    "name": "ipython",
    "version": 3
   },
   "file_extension": ".py",
   "mimetype": "text/x-python",
   "name": "python",
   "nbconvert_exporter": "python",
   "pygments_lexer": "ipython3",
   "version": "3.10.8"
  }
 },
 "nbformat": 4,
 "nbformat_minor": 5
}
