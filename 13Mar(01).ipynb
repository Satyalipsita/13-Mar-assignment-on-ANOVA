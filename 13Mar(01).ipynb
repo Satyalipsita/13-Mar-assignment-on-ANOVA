{
 "cells": [
  {
   "cell_type": "code",
   "execution_count": null,
   "id": "3cf6bb89-d8eb-42ae-a9d5-79d180e57f6b",
   "metadata": {},
   "outputs": [],
   "source": [
    "One assumption in ANOVA (Analysis of Variance) is the assumption of \n",
    "homogeneity of variances, also known as the assumption of equal variances. \n",
    "This assumption states that the variances of the dependent variable should be \n",
    "approximately equal across the different levels of the independent variable(s).\n",
    "\n",
    "Violating this assumption can cause significant impacts on the results of ANOVA. \n",
    "When the assumption of equal variances is violated, the F-ratio \n",
    "(the ratio of between-group variance to within-group variance) \n",
    "can become inflated, leading to an increased probability of\n",
    "Type I error (rejecting the null hypothesis when it is actually true). \n",
    "This can result in a higher likelihood of finding statistically significant \n",
    "differences when there are none, leading to false positive results.\n",
    "\n",
    "Furthermore, violating the assumption of equal variances can also affect \n",
    "the power of the ANOVA test, making it less likely to detect true differences\n",
    "between the groups. This can lead to false negative results, where significant\n",
    "differences are not detected even though they actually exist.\n",
    "\n"
   ]
  }
 ],
 "metadata": {
  "kernelspec": {
   "display_name": "Python 3 (ipykernel)",
   "language": "python",
   "name": "python3"
  },
  "language_info": {
   "codemirror_mode": {
    "name": "ipython",
    "version": 3
   },
   "file_extension": ".py",
   "mimetype": "text/x-python",
   "name": "python",
   "nbconvert_exporter": "python",
   "pygments_lexer": "ipython3",
   "version": "3.10.8"
  }
 },
 "nbformat": 4,
 "nbformat_minor": 5
}
