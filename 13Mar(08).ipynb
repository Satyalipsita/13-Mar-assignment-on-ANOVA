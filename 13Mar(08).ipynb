{
 "cells": [
  {
   "cell_type": "code",
   "execution_count": null,
   "id": "e3264a64-f682-48a9-8241-7b8d2589cbe4",
   "metadata": {},
   "outputs": [],
   "source": [
    "After conducting an ANOVA and finding a statistically\n",
    "significant difference between groups, a post hoc test\n",
    "can be conducted to determine which specific groups are \n",
    "different from each other. The post hoc test is necessary\n",
    "because the ANOVA only tells us that there is a significant \n",
    "difference between at least two groups, but it doesn't indicate which\n",
    "groups are significantly different from each other.\n",
    "\n",
    "The post hoc test allows us to conduct pairwise comparisons between\n",
    "groups and determine which groups have significantly different means. \n",
    "Some commonly used post hoc tests include Tukey's Honestly Significant\n",
    "Difference (HSD) test, Bonferroni correction, and Scheffe's method.\n",
    "\n",
    "The choice of post hoc test depends on the research question, \n",
    "the number of groups being compared, and the type of data being\n",
    "analyzed. The main goal of the post hoc test is to control the \n",
    "family-wise error rate (FWER), which is the probability of\n",
    "making at least one type I error (false positive) in the multiple comparisons.\n",
    "\n",
    "In summary, conducting a post hoc test after ANOVA \n",
    "is necessary to determine which specific groups have\n",
    "significantly different means and to control for the\n",
    "probability of making false positive errors in multiple comparisons.\n"
   ]
  }
 ],
 "metadata": {
  "kernelspec": {
   "display_name": "Python 3 (ipykernel)",
   "language": "python",
   "name": "python3"
  },
  "language_info": {
   "codemirror_mode": {
    "name": "ipython",
    "version": 3
   },
   "file_extension": ".py",
   "mimetype": "text/x-python",
   "name": "python",
   "nbconvert_exporter": "python",
   "pygments_lexer": "ipython3",
   "version": "3.10.8"
  }
 },
 "nbformat": 4,
 "nbformat_minor": 5
}
