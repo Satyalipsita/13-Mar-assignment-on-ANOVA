{
 "cells": [
  {
   "cell_type": "code",
   "execution_count": null,
   "id": "4fbf7e47-217b-479a-af97-9cf0ffd48740",
   "metadata": {},
   "outputs": [],
   "source": [
    "There are several types of ANOVA (Analysis of Variance) tests,\n",
    "each with a specific use case. Here are some of the most common types of ANOVA and their uses:\n",
    "\n",
    "One-Way ANOVA: This test is used to compare means across three or more groups based \n",
    "on a single independent variable. It is used to determine if there is a significant\n",
    "difference in the means of the groups.\n",
    "\n",
    "Two-Way ANOVA: This test is used to examine the effects of two independent variables\n",
    "on a dependent variable. It is used to determine if there is a significant interaction \n",
    "effect between the independent variables on the dependent variable.\n",
    "\n",
    "Repeated Measures ANOVA: This test is used to analyze data from experiments where the\n",
    "same group of participants are measured at multiple time points or under multiple conditions. \n",
    "It is used to determine if there is a significant difference in means over time or across conditions.\n",
    "\n",
    "Mixed-Design ANOVA: This test is used to analyze data from experiments that have both \n",
    "within-subjects and between-subjects factors. It is used to determine if there is \n",
    "a significant main effect of either factor and/or an interaction effect between the \n",
    "factors on the dependent variable.\n",
    "\n",
    "MANOVA (Multivariate ANOVA): This test is used to analyze data with two or more \n",
    "dependent variables. It is used to determine if there is a significant difference \n",
    "in means across multiple groups on multiple dependent variables.\n",
    "\n",
    "The choice of which ANOVA to use depends on the research question and the \n",
    "experimental design. For example, if a researcher wants to compare the means\n",
    "of three or more groups based on a single independent variable,\n",
    "they would use a One-Way ANOVA. If they want to analyze data \n",
    "with both within-subjects and between-subjects factors, they would use a Mixed-Design ANOVA."
   ]
  }
 ],
 "metadata": {
  "kernelspec": {
   "display_name": "Python 3 (ipykernel)",
   "language": "python",
   "name": "python3"
  },
  "language_info": {
   "codemirror_mode": {
    "name": "ipython",
    "version": 3
   },
   "file_extension": ".py",
   "mimetype": "text/x-python",
   "name": "python",
   "nbconvert_exporter": "python",
   "pygments_lexer": "ipython3",
   "version": "3.10.8"
  }
 },
 "nbformat": 4,
 "nbformat_minor": 5
}
