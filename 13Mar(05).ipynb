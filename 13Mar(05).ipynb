{
 "cells": [
  {
   "cell_type": "code",
   "execution_count": 1,
   "id": "10baa99e-e400-4479-9ec7-da62c4356dfa",
   "metadata": {},
   "outputs": [
    {
     "name": "stdout",
     "output_type": "stream",
     "text": [
      "SSA: 175.0\n",
      "SSB: 62.5\n",
      "SSAB: 7.5\n",
      "F_A: 8.571428571428571\n",
      "F_B: 4.591836734693878\n",
      "F_AB: 0.1836734693877551\n",
      "p-value for A: 0.0001997978317483185\n",
      "p-value for B: 0.016740844274523808\n",
      "p-value for AB: 0.9795324078588208\n"
     ]
    }
   ],
   "source": [
    "import numpy as np\n",
    "from scipy import stats\n",
    "\n",
    "# define the data\n",
    "group1 = [10, 12, 14, 16, 18]\n",
    "group2 = [8, 9, 10, 11, 12]\n",
    "group3 = [6, 7, 8, 9, 10]\n",
    "group4 = [4, 5, 6, 7, 8]\n",
    "data = np.array([group1, group2, group3, group4])\n",
    "\n",
    "# calculate the grand mean\n",
    "grand_mean = np.mean(data)\n",
    "\n",
    "# calculate the sum of squares total (SST)\n",
    "sst = np.sum((data - grand_mean) ** 2)\n",
    "\n",
    "# calculate the sum of squares for the main effect of factor A (SSA)\n",
    "ssa = np.sum((np.mean(data, axis=1) - grand_mean) ** 2) * 5\n",
    "\n",
    "# calculate the sum of squares for the main effect of factor B (SSB)\n",
    "ssb = np.sum((np.mean(data, axis=0) - grand_mean) ** 2) * 4\n",
    "\n",
    "# calculate the sum of squares for the interaction effect (SSAB)\n",
    "ssab = sst - ssa - ssb\n",
    "\n",
    "# calculate the degrees of freedom\n",
    "df_a = 3  # there are 4 levels of factor A, so df_a = number of levels - 1\n",
    "df_b = 2  # there are 3 levels of factor B, so df_b = number of levels - 1\n",
    "df_ab = 6  # df_ab = df_a * df_b\n",
    "df_within = 36  # there are 20 observations total, so df_within = total observations - total factors\n",
    "\n",
    "# calculate the mean squares\n",
    "ms_a = ssa / df_a\n",
    "ms_b = ssb / df_b\n",
    "ms_ab = ssab / df_ab\n",
    "ms_within = np.sum((data - np.mean(data)) ** 2) / df_within\n",
    "\n",
    "# calculate the F-statistics\n",
    "f_a = ms_a / ms_within\n",
    "f_b = ms_b / ms_within\n",
    "f_ab = ms_ab / ms_within\n",
    "\n",
    "# calculate the p-values\n",
    "p_a = stats.f.sf(f_a, df_a, df_within)\n",
    "p_b = stats.f.sf(f_b, df_b, df_within)\n",
    "p_ab = stats.f.sf(f_ab, df_ab, df_within)\n",
    "\n",
    "# print the results\n",
    "print(\"SSA:\", ssa)\n",
    "print(\"SSB:\", ssb)\n",
    "print(\"SSAB:\", ssab)\n",
    "print(\"F_A:\", f_a)\n",
    "print(\"F_B:\", f_b)\n",
    "print(\"F_AB:\", f_ab)\n",
    "print(\"p-value for A:\", p_a)\n",
    "print(\"p-value for B:\", p_b)\n",
    "print(\"p-value for AB:\", p_ab)\n"
   ]
  },
  {
   "cell_type": "code",
   "execution_count": null,
   "id": "fb35e7fd-c674-46ac-be54-0100370a32bb",
   "metadata": {},
   "outputs": [],
   "source": []
  }
 ],
 "metadata": {
  "kernelspec": {
   "display_name": "Python 3 (ipykernel)",
   "language": "python",
   "name": "python3"
  },
  "language_info": {
   "codemirror_mode": {
    "name": "ipython",
    "version": 3
   },
   "file_extension": ".py",
   "mimetype": "text/x-python",
   "name": "python",
   "nbconvert_exporter": "python",
   "pygments_lexer": "ipython3",
   "version": "3.10.8"
  }
 },
 "nbformat": 4,
 "nbformat_minor": 5
}
